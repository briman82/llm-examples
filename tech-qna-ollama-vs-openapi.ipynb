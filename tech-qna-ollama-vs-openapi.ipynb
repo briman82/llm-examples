{
 "cells": [
  {
   "cell_type": "markdown",
   "id": "5d41e008-317a-4fd4-a368-2fa6971cdfb3",
   "metadata": {},
   "source": [
    "# Tech Q&A\n",
    "\n",
    "Get more familiar calling both calling both Ollama and OpenAI APIs"
   ]
  },
  {
   "cell_type": "code",
   "execution_count": null,
   "id": "3e1502cd-20ef-4dae-ba15-b07a48a22ba0",
   "metadata": {},
   "outputs": [],
   "source": [
    "import ollama\n",
    "from IPython.display import Markdown, display\n",
    "from dotenv import load_dotenv\n",
    "import os\n",
    "from openai import OpenAI\n",
    "\n",
    "\n",
    "system_prompt = \"You are an assistant that answers technical questions about python code clearly and consicely.\"\n",
    "\n",
    "def ask_ollama(question):\n",
    "    messages = [\n",
    "        {\"role\": \"system\", \"content\": system_prompt},\n",
    "        {\"role\": \"user\", \"content\": question}\n",
    "    ]\n",
    "    response = ollama.chat(model=\"llama3.2\", messages=messages)\n",
    "    return display(Markdown(response['message']['content']))\n",
    "\n",
    "def ask_openai(question):\n",
    "    load_dotenv(override=True)\n",
    "    api_key = os.getenv('OPENAI_API_KEY')\n",
    "    MODEL = 'gpt-4o-mini'\n",
    "    openai = OpenAI()\n",
    "    response = openai.chat.completions.create(\n",
    "        model=MODEL,\n",
    "        messages=[\n",
    "            {\"role\": \"system\", \"content\": system_prompt},\n",
    "            {\"role\": \"user\", \"content\": question}\n",
    "      ]\n",
    "    )\n",
    "    return display(Markdown(response.choices[0].message.content))"
   ]
  },
  {
   "cell_type": "code",
   "execution_count": null,
   "id": "34d0d61b-a4f9-4604-b98a-3ab0b6e0f69d",
   "metadata": {},
   "outputs": [],
   "source": [
    "question = \"\"\"\n",
    "Please explain what this code does and why:\n",
    "yield from {book.get(\"author\") for book in books if book.get(\"author\")}\n",
    "\"\"\""
   ]
  },
  {
   "cell_type": "code",
   "execution_count": null,
   "id": "8a6d4e8d-4735-4fb4-8a16-d29ef0c89625",
   "metadata": {},
   "outputs": [],
   "source": [
    "ask_ollama(question)"
   ]
  },
  {
   "cell_type": "code",
   "execution_count": null,
   "id": "1870d748-e3de-47ad-a850-2f9ea6e2f705",
   "metadata": {},
   "outputs": [],
   "source": [
    "ask_openai(question)"
   ]
  },
  {
   "cell_type": "code",
   "execution_count": null,
   "id": "6b002aff-03f8-4e23-9f56-38fa30d6b734",
   "metadata": {},
   "outputs": [],
   "source": []
  }
 ],
 "metadata": {
  "kernelspec": {
   "display_name": "Python 3 (ipykernel)",
   "language": "python",
   "name": "python3"
  },
  "language_info": {
   "codemirror_mode": {
    "name": "ipython",
    "version": 3
   },
   "file_extension": ".py",
   "mimetype": "text/x-python",
   "name": "python",
   "nbconvert_exporter": "python",
   "pygments_lexer": "ipython3",
   "version": "3.11.13"
  }
 },
 "nbformat": 4,
 "nbformat_minor": 5
}
