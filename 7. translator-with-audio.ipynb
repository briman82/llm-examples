{
 "cells": [
  {
   "cell_type": "markdown",
   "id": "69c1ab3e-429f-4d60-9a4a-b26e70dacf5c",
   "metadata": {},
   "source": [
    "# French translator\n",
    "\n",
    "Talk into the mic and it'll translate your voice into French and speak it back to you.\n",
    "\n",
    "## Setup\n",
    "brew install ffmpeg"
   ]
  },
  {
   "cell_type": "code",
   "execution_count": 31,
   "id": "cee7d2bc-47c2-4aff-b61b-5a85ab8a1330",
   "metadata": {},
   "outputs": [
    {
     "name": "stdout",
     "output_type": "stream",
     "text": [
      "API key looks good so far\n"
     ]
    }
   ],
   "source": [
    "from pydub import AudioSegment\n",
    "from pydub.playback import play\n",
    "import os\n",
    "from dotenv import load_dotenv\n",
    "from openai import OpenAI\n",
    "import json\n",
    "import gradio as gr\n",
    "import base64\n",
    "from io import BytesIO\n",
    "\n",
    "load_dotenv(override=True)\n",
    "api_key = os.getenv('OPENAI_API_KEY')\n",
    "\n",
    "if api_key and api_key.startswith('sk-proj-'):\n",
    "    print(\"API key looks good so far\")\n",
    "else:\n",
    "    print(\"There might be a problem with your API key?\")\n",
    "    \n",
    "MODEL = 'gpt-4o-mini'\n",
    "openai = OpenAI()"
   ]
  },
  {
   "cell_type": "code",
   "execution_count": 32,
   "id": "526216cf-8500-4108-9a2f-a295be6a5e04",
   "metadata": {},
   "outputs": [
    {
     "name": "stdout",
     "output_type": "stream",
     "text": [
      "* Running on local URL:  http://127.0.0.1:7873\n",
      "* To create a public link, set `share=True` in `launch()`.\n"
     ]
    },
    {
     "data": {
      "text/html": [
       "<div><iframe src=\"http://127.0.0.1:7873/\" width=\"100%\" height=\"500\" allow=\"autoplay; camera; microphone; clipboard-read; clipboard-write;\" frameborder=\"0\" allowfullscreen></iframe></div>"
      ],
      "text/plain": [
       "<IPython.core.display.HTML object>"
      ]
     },
     "metadata": {},
     "output_type": "display_data"
    },
    {
     "data": {
      "text/plain": []
     },
     "execution_count": 32,
     "metadata": {},
     "output_type": "execute_result"
    },
    {
     "name": "stderr",
     "output_type": "stream",
     "text": [
      "Input #0, wav, from '/var/folders/kd/tb5ggczn5gng9yy8bzfqy_ym0000gn/T/tmp8duqxua9.wav':\n",
      "  Duration: 00:00:01.82, bitrate: 384 kb/s\n",
      "  Stream #0:0: Audio: pcm_s16le ([1][0][0][0] / 0x0001), 24000 Hz, 1 channels, s16, 384 kb/s\n",
      "   1.76 M-A:  0.000 fd=   0 aq=    0KB vq=    0KB sq=    0B "
     ]
    },
    {
     "name": "stdout",
     "output_type": "stream",
     "text": [
      "\n"
     ]
    },
    {
     "name": "stderr",
     "output_type": "stream",
     "text": [
      "Input #0, wav, from '/var/folders/kd/tb5ggczn5gng9yy8bzfqy_ym0000gn/T/tmpczedbbcu.wav':\n",
      "  Duration: 00:00:03.26, bitrate: 384 kb/s\n",
      "  Stream #0:0: Audio: pcm_s16le ([1][0][0][0] / 0x0001), 24000 Hz, 1 channels, s16, 384 kb/s\n",
      "   3.18 M-A:  0.000 fd=   0 aq=    0KB vq=    0KB sq=    0B "
     ]
    },
    {
     "name": "stdout",
     "output_type": "stream",
     "text": [
      "\n"
     ]
    },
    {
     "name": "stderr",
     "output_type": "stream",
     "text": [
      "Input #0, wav, from '/var/folders/kd/tb5ggczn5gng9yy8bzfqy_ym0000gn/T/tmp0l_15h8w.wav':\n",
      "  Duration: 00:00:01.87, bitrate: 384 kb/s\n",
      "  Stream #0:0: Audio: pcm_s16le ([1][0][0][0] / 0x0001), 24000 Hz, 1 channels, s16, 384 kb/s\n",
      "   1.74 M-A:  0.000 fd=   0 aq=    0KB vq=    0KB sq=    0B "
     ]
    },
    {
     "name": "stdout",
     "output_type": "stream",
     "text": [
      "\n"
     ]
    },
    {
     "name": "stderr",
     "output_type": "stream",
     "text": [
      "Input #0, wav, from '/var/folders/kd/tb5ggczn5gng9yy8bzfqy_ym0000gn/T/tmpt4wu5bbc.wav':\n",
      "  Duration: 00:00:01.80, bitrate: 384 kb/s\n",
      "  Stream #0:0: Audio: pcm_s16le ([1][0][0][0] / 0x0001), 24000 Hz, 1 channels, s16, 384 kb/s\n",
      "   1.74 M-A:  0.000 fd=   0 aq=    0KB vq=    0KB sq=    0B "
     ]
    },
    {
     "name": "stdout",
     "output_type": "stream",
     "text": [
      "\n"
     ]
    }
   ],
   "source": [
    "def speak(message):\n",
    "    response = openai.audio.speech.create(\n",
    "      model=\"tts-1\",\n",
    "      voice=\"alloy\",\n",
    "      input=message\n",
    "    )\n",
    "    \n",
    "    audio_stream = BytesIO(response.content)\n",
    "    audio = AudioSegment.from_file(audio_stream, format=\"mp3\")\n",
    "    play(audio)\n",
    "\n",
    "def transcribe_and_send(history, audio):\n",
    "    if audio is None:\n",
    "        return history\n",
    "        \n",
    "    # Transcribe speech\n",
    "    with open(audio, \"rb\") as f:\n",
    "        transcript = openai.audio.transcriptions.create(\n",
    "            model=\"gpt-4o-mini-transcribe\",\n",
    "            file=f\n",
    "        )\n",
    "    english_text = transcript.text\n",
    "\n",
    "    # Translate to French\n",
    "    to_french = openai.chat.completions.create(\n",
    "        model=\"gpt-4o-mini\",\n",
    "        messages=[\n",
    "            {\"role\": \"system\", \"content\": \"Translate the user's message into French.\"},\n",
    "            {\"role\": \"user\", \"content\": english_text}\n",
    "        ]\n",
    "    )\n",
    "    french_text = to_french.choices[0].message.content.strip()\n",
    "\n",
    "    # Say it out loud\n",
    "    speak(french_text)\n",
    "\n",
    "    # Translate French back to English (verification)\n",
    "    back_to_english = openai.chat.completions.create(\n",
    "        model=\"gpt-4o-mini\",\n",
    "        messages=[\n",
    "            {\"role\": \"system\", \"content\": \"Translate the user's message into English.\"},\n",
    "            {\"role\": \"user\", \"content\": french_text}\n",
    "        ]\n",
    "    )\n",
    "    verification_text = back_to_english.choices[0].message.content.strip()\n",
    "    \n",
    "    # Add assistant message (translation and back-translation)\n",
    "    assistant_content = (\n",
    "        f\"**French Translation:** {french_text}\\n\\n\"\n",
    "        f\"**Back to English:** {verification_text}\"\n",
    "    )\n",
    "    history.append({\"role\": \"user\", \"content\": english_text})\n",
    "    history.append({\"role\": \"assistant\", \"content\": assistant_content})\n",
    "\n",
    "    return history\n",
    "\n",
    "with gr.Blocks() as demo:\n",
    "    chatbot = gr.Chatbot(type=\"messages\")\n",
    "    state = gr.State([])\n",
    "\n",
    "    audio_input = gr.Audio(sources=[\"microphone\"], type=\"filepath\", label=\"🎙️ Speak here\")\n",
    "\n",
    "    # When mic stops, transcribe and send to chat directly\n",
    "    audio_input.change(fn=transcribe_and_send, inputs=[state, audio_input], outputs=chatbot)\n",
    "\n",
    "demo.launch()"
   ]
  },
  {
   "cell_type": "code",
   "execution_count": null,
   "id": "269b80a7-4b63-484e-9c48-841e5fadb372",
   "metadata": {},
   "outputs": [],
   "source": []
  }
 ],
 "metadata": {
  "kernelspec": {
   "display_name": "Python 3 (ipykernel)",
   "language": "python",
   "name": "python3"
  },
  "language_info": {
   "codemirror_mode": {
    "name": "ipython",
    "version": 3
   },
   "file_extension": ".py",
   "mimetype": "text/x-python",
   "name": "python",
   "nbconvert_exporter": "python",
   "pygments_lexer": "ipython3",
   "version": "3.11.13"
  }
 },
 "nbformat": 4,
 "nbformat_minor": 5
}
